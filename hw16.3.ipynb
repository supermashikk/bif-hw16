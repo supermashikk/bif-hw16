{
 "cells": [
  {
   "cell_type": "markdown",
   "metadata": {},
   "source": [
    "# Task 3"
   ]
  },
  {
   "cell_type": "code",
   "execution_count": 1,
   "metadata": {},
   "outputs": [
    {
     "name": "stdout",
     "output_type": "stream",
     "text": [
      "Accuracy score:  0.9583333333333334\n",
      "Confusion matrix:  [[79  4]\n",
      " [ 1 36]]\n",
      "True Positive Rate =  0.972972972972973\n",
      "True Negative Rate =  0.9518072289156626\n",
      "ROC AUC =  0.9623901009443179\n"
     ]
    }
   ],
   "source": [
    "import pandas as pd\n",
    "import numpy as np\n",
    "\n",
    "from sklearn.svm import SVC\n",
    "from sklearn.model_selection import train_test_split\n",
    "from sklearn.metrics import accuracy_score, confusion_matrix, auc, roc_auc_score\n",
    "from sklearn.preprocessing import LabelEncoder\n",
    "\n",
    "df = pd.read_csv('https://raw.githubusercontent.com/s-a-nersisyan/HSE_bioinformatics_2021/master/seminar15/BRCA_pam50.tsv', index_col = 0, sep = '\\t')\n",
    "df1 = df.loc[(df['Subtype'] == 'Luminal A') | (df['Subtype'] == 'Luminal B')]\n",
    "\n",
    "X1 = df1.iloc[:,:-1].to_numpy()\n",
    "y1 = df1['Subtype'].to_numpy()\n",
    "clf = SVC(kernel = 'linear', class_weight = 'balanced')\n",
    "\n",
    "def classification(X, y):\n",
    "    \n",
    "    X_train, X_test, y_train, y_test = train_test_split(X, y, test_size = 0.2, random_state = 5, stratify = y)\n",
    "\n",
    "    clf.fit(X_train, y_train)\n",
    "\n",
    "    y_pred = clf.predict(X_test)\n",
    "\n",
    "    arr = confusion_matrix(y_test, y_pred)\n",
    "    print('Accuracy score: ', accuracy_score(y_test, y_pred))\n",
    "    print('Confusion matrix: ', arr)\n",
    "    print('True Positive Rate = ', (arr[1,1]/(arr[1,1] + arr[1,0])))\n",
    "    print('True Negative Rate = ', (arr[0,0]/(arr[0,0] + arr[0,1])))\n",
    "    \n",
    "    le = LabelEncoder() #otherwise roc auc score cannot be counted\n",
    "    y_pred = le.fit_transform(y_pred)\n",
    "    y_test = le.fit_transform(y_test)\n",
    "    \n",
    "    print('ROC AUC = ', (roc_auc_score(y_test, y_pred)))\n",
    "    \n",
    "classification(X1, y1)"
   ]
  },
  {
   "cell_type": "code",
   "execution_count": 2,
   "metadata": {},
   "outputs": [],
   "source": [
    "#counting coefficients\n",
    "\n",
    "df1 = df.iloc[:, :50]\n",
    "df1.loc['Weights'] = clf.coef_[0]"
   ]
  },
  {
   "cell_type": "code",
   "execution_count": 3,
   "metadata": {},
   "outputs": [
    {
     "name": "stdout",
     "output_type": "stream",
     "text": [
      "Index(['UBE2T', 'UBE2C', 'RRM2', 'MELK', 'MYBL2'], dtype='object')\n"
     ]
    }
   ],
   "source": [
    "df2 = df1.sort_values(by = 'Weights', axis = 1, ascending = False).iloc[:,:5]\n",
    "df2.loc['Weights'] = np.abs(df2.loc['Weights'])\n",
    "\n",
    "print(df2.columns)\n",
    "df2 = pd.concat([df2, df['Subtype']], axis = 1)"
   ]
  },
  {
   "cell_type": "code",
   "execution_count": 4,
   "metadata": {},
   "outputs": [
    {
     "name": "stdout",
     "output_type": "stream",
     "text": [
      "Accuracy score:  0.8583333333333333\n",
      "Confusion matrix:  [[68 15]\n",
      " [ 2 35]]\n",
      "True Positive Rate =  0.9459459459459459\n",
      "True Negative Rate =  0.8192771084337349\n",
      "ROC AUC =  0.8826115271898405\n"
     ]
    }
   ],
   "source": [
    "df2 = df2.iloc[:-1, :]\n",
    "df2 = df2.loc[(df2['Subtype'] == 'Luminal A') | (df2['Subtype'] == 'Luminal B')]\n",
    "\n",
    "X2 = df2.iloc[:,:5].to_numpy()\n",
    "y2 = df2['Subtype'].to_numpy()\n",
    "\n",
    "classification(X2, y2)"
   ]
  }
 ],
 "metadata": {
  "kernelspec": {
   "display_name": "Python 3",
   "language": "python",
   "name": "python3"
  },
  "language_info": {
   "codemirror_mode": {
    "name": "ipython",
    "version": 3
   },
   "file_extension": ".py",
   "mimetype": "text/x-python",
   "name": "python",
   "nbconvert_exporter": "python",
   "pygments_lexer": "ipython3",
   "version": "3.7.9"
  }
 },
 "nbformat": 4,
 "nbformat_minor": 4
}
