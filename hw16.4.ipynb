{
 "cells": [
  {
   "cell_type": "code",
   "execution_count": 1,
   "metadata": {},
   "outputs": [
    {
     "name": "stdout",
     "output_type": "stream",
     "text": [
      "Accuracy for 50 genes: \n",
      "Accuracy score:  0.9562841530054644\n",
      "Accuracy for 2 Primary components: \n",
      "Accuracy score:  0.8469945355191257\n"
     ]
    }
   ],
   "source": [
    "import pandas as pd\n",
    "import numpy as np\n",
    "\n",
    "from sklearn.decomposition import PCA\n",
    "from sklearn.svm import SVC\n",
    "from sklearn.metrics import accuracy_score\n",
    "from sklearn.model_selection import train_test_split\n",
    "\n",
    "df = pd.read_csv('https://raw.githubusercontent.com/s-a-nersisyan/HSE_bioinformatics_2021/master/seminar15/BRCA_pam50.tsv', index_col = 0, sep = '\\t')\n",
    "\n",
    "X1 = df.iloc[:, :-1].to_numpy()\n",
    "y1 = df['Subtype'].to_numpy()\n",
    "\n",
    "pca = PCA()\n",
    "df[['PC1', 'PC2']] = pca.fit_transform(df.iloc[:, :50])[:, :2]\n",
    "\n",
    "df1 = pd.concat([df[['PC1', 'PC2']], df['Subtype']], axis = 1)\n",
    "\n",
    "X2 = df1.iloc[:, :2].to_numpy()\n",
    "y2 = df1['Subtype'].to_numpy()\n",
    "\n",
    "def classifier(X,y):\n",
    "    \n",
    "    X_train, X_test, y_train, y_test = train_test_split(\n",
    "        X, y, random_state = 5, test_size = 0.2\n",
    "    )\n",
    "    \n",
    "    clf = SVC(kernel = 'linear', decision_function_shape = 'ovr')\n",
    "    clf.fit(X_train, y_train)\n",
    "    y_pred = clf.predict(X_test)\n",
    "    \n",
    "    print('Accuracy score: ', accuracy_score(y_test, y_pred))\n",
    "    \n",
    "print('Accuracy for 50 genes: ')\n",
    "classifier(X1, y1)\n",
    "\n",
    "print('Accuracy for 2 Primary components: ')\n",
    "classifier(X2, y2)"
   ]
  }
 ],
 "metadata": {
  "kernelspec": {
   "display_name": "Python 3",
   "language": "python",
   "name": "python3"
  },
  "language_info": {
   "codemirror_mode": {
    "name": "ipython",
    "version": 3
   },
   "file_extension": ".py",
   "mimetype": "text/x-python",
   "name": "python",
   "nbconvert_exporter": "python",
   "pygments_lexer": "ipython3",
   "version": "3.7.9"
  }
 },
 "nbformat": 4,
 "nbformat_minor": 4
}
